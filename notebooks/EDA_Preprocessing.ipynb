from src.utils import plot_correlation_heatmap, plot_feature_distributions

# Simulate dummy data for safe demonstration
import numpy as np
df = pd.DataFrame({
    'flow_velocity': np.random.uniform(2.0, 3.0, 100),
    'fin_angle': np.random.uniform(10, 20, 100),
    'pitch': np.random.uniform(2.5, 4.0, 100),
    'yaw': np.random.uniform(1.0, 2.0, 100),
    'depth': np.random.uniform(95, 105, 100)
})
df['angle_diff'] = df['fin_angle'] - df['pitch']
df['velocity_depth_ratio'] = df['flow_velocity'] / (df['depth'] + 1e-3)

# Plot heatmap
plot_correlation_heatmap(df)

# Plot distributions
plot_feature_distributions(df, columns=['flow_velocity', 'depth', 'angle_diff'])

# Later, after model prediction:
# plot_prediction_scatter(y_test, model.predict(X_test), model_name="XGBoost")
