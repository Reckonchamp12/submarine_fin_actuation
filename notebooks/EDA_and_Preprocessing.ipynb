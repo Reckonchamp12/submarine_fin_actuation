import pandas as pd
import matplotlib.pyplot as plt
import seaborn as sns

# Since real data is confidential, simulate structure for demonstration:
columns = ['flow_velocity', 'fin_angle', 'pitch', 'yaw', 'depth']
df = pd.DataFrame(columns=columns)

print("Expected Data Columns:", df.columns.tolist())
print("Sample structure:\n")
print(pd.DataFrame({
    'flow_velocity': [2.4, 2.5],
    'fin_angle': [15, 16],
    'pitch': [3.2, 3.3],
    'yaw': [1.5, 1.6],
    'depth': [100, 101]
}))

df = pd.read_csv('../data/hydro_data.csv')
df.dropna(inplace=True)
df['angle_diff'] = df['fin_angle'] - df['pitch']
df['velocity_depth_ratio'] = df['flow_velocity'] / (df['depth'] + 1e-3)

sns.heatmap(df.corr(), annot=True, cmap='coolwarm')
plt.title('Feature Correlation Heatmap')
plt.show()

